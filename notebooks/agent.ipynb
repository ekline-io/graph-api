{
 "cells": [
  {
   "cell_type": "markdown",
   "id": "51466c8d-8ce4-4b3d-be4e-18fdbeda5f53",
   "metadata": {},
   "source": [
    "# Use the langgraph-sdk to interact with your agent's API"
   ]
  },
  {
   "cell_type": "code",
   "execution_count": 46,
   "id": "521d975b-e94b-4c37-bfa1-82d969e2a4dc",
   "metadata": {},
   "outputs": [
    {
     "name": "stdout",
     "output_type": "stream",
     "text": [
      "Requirement already satisfied: langgraph_sdk in /Library/Frameworks/Python.framework/Versions/3.11/lib/python3.11/site-packages (0.1.9)\n",
      "Requirement already satisfied: httpx==0.25.2 in /Library/Frameworks/Python.framework/Versions/3.11/lib/python3.11/site-packages (from langgraph_sdk) (0.25.2)\n",
      "Requirement already satisfied: httpx-sse<0.5.0,>=0.4.0 in /Library/Frameworks/Python.framework/Versions/3.11/lib/python3.11/site-packages (from langgraph_sdk) (0.4.0)\n",
      "Requirement already satisfied: orjson<4.0.0,>=3.10.1 in /Library/Frameworks/Python.framework/Versions/3.11/lib/python3.11/site-packages (from langgraph_sdk) (3.10.3)\n",
      "Requirement already satisfied: anyio in /Library/Frameworks/Python.framework/Versions/3.11/lib/python3.11/site-packages (from httpx==0.25.2->langgraph_sdk) (4.3.0)\n",
      "Requirement already satisfied: certifi in /Library/Frameworks/Python.framework/Versions/3.11/lib/python3.11/site-packages (from httpx==0.25.2->langgraph_sdk) (2024.2.2)\n",
      "Requirement already satisfied: httpcore==1.* in /Library/Frameworks/Python.framework/Versions/3.11/lib/python3.11/site-packages (from httpx==0.25.2->langgraph_sdk) (1.0.5)\n",
      "Requirement already satisfied: idna in /Library/Frameworks/Python.framework/Versions/3.11/lib/python3.11/site-packages (from httpx==0.25.2->langgraph_sdk) (3.7)\n",
      "Requirement already satisfied: sniffio in /Library/Frameworks/Python.framework/Versions/3.11/lib/python3.11/site-packages (from httpx==0.25.2->langgraph_sdk) (1.3.1)\n",
      "Requirement already satisfied: h11<0.15,>=0.13 in /Library/Frameworks/Python.framework/Versions/3.11/lib/python3.11/site-packages (from httpcore==1.*->httpx==0.25.2->langgraph_sdk) (0.14.0)\n",
      "Note: you may need to restart the kernel to use updated packages.\n"
     ]
    }
   ],
   "source": [
    "%pip install langgraph_sdk\n",
    "from langgraph_sdk import get_client"
   ]
  },
  {
   "cell_type": "code",
   "execution_count": 47,
   "id": "27a1392b-86c3-464e-99a8-90ffc965f3ec",
   "metadata": {},
   "outputs": [],
   "source": [
    "client = get_client()"
   ]
  },
  {
   "cell_type": "code",
   "execution_count": 48,
   "id": "4947e9bc-111f-4991-8c41-1041da9bf0ba",
   "metadata": {},
   "outputs": [
    {
     "data": {
      "text/plain": [
       "[{'assistant_id': 'f6142c1e-6175-4a9f-8297-5aca82d0819e',\n",
       "  'graph_id': 'agent',\n",
       "  'config': {},\n",
       "  'created_at': '2024-05-17T17:59:00.499064+00:00',\n",
       "  'updated_at': '2024-05-17T17:59:00.499064+00:00',\n",
       "  'metadata': {}},\n",
       " {'assistant_id': 'fe096781-5601-53d2-b2f6-0d3403f7e9ca',\n",
       "  'graph_id': 'agent',\n",
       "  'config': {},\n",
       "  'created_at': '2024-05-17T01:11:16.548057+00:00',\n",
       "  'updated_at': '2024-05-17T01:11:16.548057+00:00',\n",
       "  'metadata': {'created_by': 'system'}}]"
      ]
     },
     "execution_count": 48,
     "metadata": {},
     "output_type": "execute_result"
    }
   ],
   "source": [
    "assistants = await client.assistants.search()\n",
    "assistants"
   ]
  },
  {
   "cell_type": "code",
   "execution_count": 49,
   "id": "230c0464-a6e5-420f-9e38-ca514e5634ce",
   "metadata": {},
   "outputs": [
    {
     "data": {
      "text/plain": [
       "{'assistant_id': 'f6142c1e-6175-4a9f-8297-5aca82d0819e',\n",
       " 'graph_id': 'agent',\n",
       " 'config': {},\n",
       " 'created_at': '2024-05-17T17:59:00.499064+00:00',\n",
       " 'updated_at': '2024-05-17T17:59:00.499064+00:00',\n",
       " 'metadata': {}}"
      ]
     },
     "execution_count": 49,
     "metadata": {},
     "output_type": "execute_result"
    }
   ],
   "source": [
    "assistant = next(a for a in assistants if a['graph_id'] == 'agent')\n",
    "assistant"
   ]
  },
  {
   "cell_type": "code",
   "execution_count": 50,
   "id": "56aa5159-5583-4134-9210-709b969bda6f",
   "metadata": {},
   "outputs": [
    {
     "data": {
      "text/plain": [
       "{'thread_id': '8c683218-44c6-4b28-969f-9dcc9c7392fe',\n",
       " 'created_at': '2024-05-17T22:11:40.209336+00:00',\n",
       " 'updated_at': '2024-05-17T22:11:40.209336+00:00',\n",
       " 'metadata': {}}"
      ]
     },
     "execution_count": 50,
     "metadata": {},
     "output_type": "execute_result"
    }
   ],
   "source": [
    "thread = await client.threads.create()\n",
    "thread"
   ]
  },
  {
   "cell_type": "code",
   "execution_count": 51,
   "id": "147c3f98-f889-4f05-a090-6b31f2a0b291",
   "metadata": {},
   "outputs": [
    {
     "data": {
      "text/plain": [
       "[]"
      ]
     },
     "execution_count": 51,
     "metadata": {},
     "output_type": "execute_result"
    }
   ],
   "source": [
    "runs = await client.runs.list(thread['thread_id'])\n",
    "runs"
   ]
  },
  {
   "cell_type": "code",
   "execution_count": 52,
   "id": "7da70e20-1a4e-4df2-b996-1927f474c835",
   "metadata": {},
   "outputs": [
    {
     "name": "stdout",
     "output_type": "stream",
     "text": [
      "StreamPart(event='metadata', data={'run_id': 'd5fa1da1-ea98-48e2-af18-0bcb17a703ae'})\n",
      "StreamPart(event='error', data={'status_code': 400, 'message': 'Internal Server Error'})\n",
      "StreamPart(event='end', data=None)\n"
     ]
    }
   ],
   "source": [
    "input = {\"messages\": [{\"role\": \"human\", \"content\": \"whats the weather in la\"}]}\n",
    "async for chunk in client.runs.stream(thread['thread_id'], assistant['assistant_id'], input=input):\n",
    "    print(chunk)"
   ]
  },
  {
   "cell_type": "code",
   "execution_count": 45,
   "id": "7372d5d5-897e-4650-8ad7-c46a778e058b",
   "metadata": {},
   "outputs": [
    {
     "name": "stderr",
     "output_type": "stream",
     "text": [
      "Error from langgraph-api: {\"detail\":\"There is already a pending run for this thread.\"}\n",
      "Traceback (most recent call last):\n",
      "  File \"/Library/Frameworks/Python.framework/Versions/3.11/lib/python3.11/site-packages/langgraph_sdk/client.py\", line 69, in post\n",
      "    r.raise_for_status()\n",
      "  File \"/Library/Frameworks/Python.framework/Versions/3.11/lib/python3.11/site-packages/httpx/_models.py\", line 758, in raise_for_status\n",
      "    raise HTTPStatusError(message, request=request, response=self)\n",
      "httpx.HTTPStatusError: Client error '409 Conflict' for url 'http://localhost:8123/threads/48d4109f-89e9-4b8b-a0b1-97b4f0dc9208/runs'\n",
      "For more information check: https://developer.mozilla.org/en-US/docs/Web/HTTP/Status/409\n",
      "{\"detail\":\"There is already a pending run for this thread.\"}\n"
     ]
    },
    {
     "ename": "HTTPStatusError",
     "evalue": "Client error '409 Conflict' for url 'http://localhost:8123/threads/48d4109f-89e9-4b8b-a0b1-97b4f0dc9208/runs'\nFor more information check: https://developer.mozilla.org/en-US/docs/Web/HTTP/Status/409",
     "output_type": "error",
     "traceback": [
      "\u001b[0;31m---------------------------------------------------------------------------\u001b[0m",
      "\u001b[0;31mHTTPStatusError\u001b[0m                           Traceback (most recent call last)",
      "Cell \u001b[0;32mIn[45], line 2\u001b[0m\n\u001b[1;32m      1\u001b[0m \u001b[38;5;28minput\u001b[39m \u001b[38;5;241m=\u001b[39m {\u001b[38;5;124m\"\u001b[39m\u001b[38;5;124mmessages\u001b[39m\u001b[38;5;124m\"\u001b[39m: [{\u001b[38;5;124m\"\u001b[39m\u001b[38;5;124mrole\u001b[39m\u001b[38;5;124m\"\u001b[39m: \u001b[38;5;124m\"\u001b[39m\u001b[38;5;124mhuman\u001b[39m\u001b[38;5;124m\"\u001b[39m, \u001b[38;5;124m\"\u001b[39m\u001b[38;5;124mcontent\u001b[39m\u001b[38;5;124m\"\u001b[39m: \u001b[38;5;124m\"\u001b[39m\u001b[38;5;124mand in sf\u001b[39m\u001b[38;5;124m\"\u001b[39m}]}\n\u001b[0;32m----> 2\u001b[0m run \u001b[38;5;241m=\u001b[39m \u001b[38;5;28;01mawait\u001b[39;00m client\u001b[38;5;241m.\u001b[39mruns\u001b[38;5;241m.\u001b[39mcreate(thread[\u001b[38;5;124m'\u001b[39m\u001b[38;5;124mthread_id\u001b[39m\u001b[38;5;124m'\u001b[39m], assistant[\u001b[38;5;124m\"\u001b[39m\u001b[38;5;124massistant_id\u001b[39m\u001b[38;5;124m\"\u001b[39m], \u001b[38;5;28minput\u001b[39m\u001b[38;5;241m=\u001b[39m\u001b[38;5;28minput\u001b[39m)\n\u001b[1;32m      3\u001b[0m run\n",
      "File \u001b[0;32m/Library/Frameworks/Python.framework/Versions/3.11/lib/python3.11/site-packages/langgraph_sdk/client.py:345\u001b[0m, in \u001b[0;36mRunsClient.create\u001b[0;34m(self, thread_id, assistant_id, input, stream_mode, metadata, config, interrupt_before, interrupt_after, webhook)\u001b[0m\n\u001b[1;32m    331\u001b[0m \u001b[38;5;28;01masync\u001b[39;00m \u001b[38;5;28;01mdef\u001b[39;00m \u001b[38;5;21mcreate\u001b[39m(\n\u001b[1;32m    332\u001b[0m     \u001b[38;5;28mself\u001b[39m,\n\u001b[1;32m    333\u001b[0m     thread_id: \u001b[38;5;28mstr\u001b[39m,\n\u001b[0;32m   (...)\u001b[0m\n\u001b[1;32m    342\u001b[0m     webhook: Optional[\u001b[38;5;28mstr\u001b[39m] \u001b[38;5;241m=\u001b[39m \u001b[38;5;28;01mNone\u001b[39;00m,\n\u001b[1;32m    343\u001b[0m ) \u001b[38;5;241m-\u001b[39m\u001b[38;5;241m>\u001b[39m Run:\n\u001b[1;32m    344\u001b[0m \u001b[38;5;250m    \u001b[39m\u001b[38;5;124;03m\"\"\"Create a background run.\"\"\"\u001b[39;00m\n\u001b[0;32m--> 345\u001b[0m     \u001b[38;5;28;01mreturn\u001b[39;00m \u001b[38;5;28;01mawait\u001b[39;00m \u001b[38;5;28mself\u001b[39m\u001b[38;5;241m.\u001b[39mhttp\u001b[38;5;241m.\u001b[39mpost(\n\u001b[1;32m    346\u001b[0m         \u001b[38;5;124mf\u001b[39m\u001b[38;5;124m\"\u001b[39m\u001b[38;5;124m/threads/\u001b[39m\u001b[38;5;132;01m{\u001b[39;00mthread_id\u001b[38;5;132;01m}\u001b[39;00m\u001b[38;5;124m/runs\u001b[39m\u001b[38;5;124m\"\u001b[39m,\n\u001b[1;32m    347\u001b[0m         json\u001b[38;5;241m=\u001b[39m{\n\u001b[1;32m    348\u001b[0m             \u001b[38;5;124m\"\u001b[39m\u001b[38;5;124minput\u001b[39m\u001b[38;5;124m\"\u001b[39m: \u001b[38;5;28minput\u001b[39m,\n\u001b[1;32m    349\u001b[0m             \u001b[38;5;124m\"\u001b[39m\u001b[38;5;124mconfig\u001b[39m\u001b[38;5;124m\"\u001b[39m: config,\n\u001b[1;32m    350\u001b[0m             \u001b[38;5;124m\"\u001b[39m\u001b[38;5;124mmetadata\u001b[39m\u001b[38;5;124m\"\u001b[39m: metadata,\n\u001b[1;32m    351\u001b[0m             \u001b[38;5;124m\"\u001b[39m\u001b[38;5;124mstream_mode\u001b[39m\u001b[38;5;124m\"\u001b[39m: stream_mode,\n\u001b[1;32m    352\u001b[0m             \u001b[38;5;124m\"\u001b[39m\u001b[38;5;124massistant_id\u001b[39m\u001b[38;5;124m\"\u001b[39m: assistant_id,\n\u001b[1;32m    353\u001b[0m             \u001b[38;5;124m\"\u001b[39m\u001b[38;5;124minterrupt_before\u001b[39m\u001b[38;5;124m\"\u001b[39m: interrupt_before,\n\u001b[1;32m    354\u001b[0m             \u001b[38;5;124m\"\u001b[39m\u001b[38;5;124minterrupt_after\u001b[39m\u001b[38;5;124m\"\u001b[39m: interrupt_after,\n\u001b[1;32m    355\u001b[0m             \u001b[38;5;124m\"\u001b[39m\u001b[38;5;124mwebhook\u001b[39m\u001b[38;5;124m\"\u001b[39m: webhook,\n\u001b[1;32m    356\u001b[0m         },\n\u001b[1;32m    357\u001b[0m     )\n",
      "File \u001b[0;32m/Library/Frameworks/Python.framework/Versions/3.11/lib/python3.11/site-packages/langgraph_sdk/client.py:75\u001b[0m, in \u001b[0;36mHttpClient.post\u001b[0;34m(self, path, json)\u001b[0m\n\u001b[1;32m     73\u001b[0m         e\u001b[38;5;241m.\u001b[39madd_note(body)\n\u001b[1;32m     74\u001b[0m     logger\u001b[38;5;241m.\u001b[39merror(\u001b[38;5;124mf\u001b[39m\u001b[38;5;124m\"\u001b[39m\u001b[38;5;124mError from langgraph-api: \u001b[39m\u001b[38;5;132;01m{\u001b[39;00mbody\u001b[38;5;132;01m}\u001b[39;00m\u001b[38;5;124m\"\u001b[39m, exc_info\u001b[38;5;241m=\u001b[39me)\n\u001b[0;32m---> 75\u001b[0m     \u001b[38;5;28;01mraise\u001b[39;00m e\n\u001b[1;32m     76\u001b[0m \u001b[38;5;28;01mreturn\u001b[39;00m \u001b[38;5;28;01mawait\u001b[39;00m decode_json(r)\n",
      "File \u001b[0;32m/Library/Frameworks/Python.framework/Versions/3.11/lib/python3.11/site-packages/langgraph_sdk/client.py:69\u001b[0m, in \u001b[0;36mHttpClient.post\u001b[0;34m(self, path, json)\u001b[0m\n\u001b[1;32m     67\u001b[0m r \u001b[38;5;241m=\u001b[39m \u001b[38;5;28;01mawait\u001b[39;00m \u001b[38;5;28mself\u001b[39m\u001b[38;5;241m.\u001b[39mclient\u001b[38;5;241m.\u001b[39mpost(path, headers\u001b[38;5;241m=\u001b[39mheaders, content\u001b[38;5;241m=\u001b[39mcontent)\n\u001b[1;32m     68\u001b[0m \u001b[38;5;28;01mtry\u001b[39;00m:\n\u001b[0;32m---> 69\u001b[0m     \u001b[43mr\u001b[49m\u001b[38;5;241;43m.\u001b[39;49m\u001b[43mraise_for_status\u001b[49m\u001b[43m(\u001b[49m\u001b[43m)\u001b[49m\n\u001b[1;32m     70\u001b[0m \u001b[38;5;28;01mexcept\u001b[39;00m httpx\u001b[38;5;241m.\u001b[39mHTTPStatusError \u001b[38;5;28;01mas\u001b[39;00m e:\n\u001b[1;32m     71\u001b[0m     body \u001b[38;5;241m=\u001b[39m (\u001b[38;5;28;01mawait\u001b[39;00m r\u001b[38;5;241m.\u001b[39maread())\u001b[38;5;241m.\u001b[39mdecode()\n",
      "File \u001b[0;32m/Library/Frameworks/Python.framework/Versions/3.11/lib/python3.11/site-packages/httpx/_models.py:758\u001b[0m, in \u001b[0;36mResponse.raise_for_status\u001b[0;34m(self)\u001b[0m\n\u001b[1;32m    756\u001b[0m error_type \u001b[38;5;241m=\u001b[39m error_types\u001b[38;5;241m.\u001b[39mget(status_class, \u001b[38;5;124m\"\u001b[39m\u001b[38;5;124mInvalid status code\u001b[39m\u001b[38;5;124m\"\u001b[39m)\n\u001b[1;32m    757\u001b[0m message \u001b[38;5;241m=\u001b[39m message\u001b[38;5;241m.\u001b[39mformat(\u001b[38;5;28mself\u001b[39m, error_type\u001b[38;5;241m=\u001b[39merror_type)\n\u001b[0;32m--> 758\u001b[0m \u001b[38;5;28;01mraise\u001b[39;00m HTTPStatusError(message, request\u001b[38;5;241m=\u001b[39mrequest, response\u001b[38;5;241m=\u001b[39m\u001b[38;5;28mself\u001b[39m)\n",
      "\u001b[0;31mHTTPStatusError\u001b[0m: Client error '409 Conflict' for url 'http://localhost:8123/threads/48d4109f-89e9-4b8b-a0b1-97b4f0dc9208/runs'\nFor more information check: https://developer.mozilla.org/en-US/docs/Web/HTTP/Status/409",
      "\u001b[0m{\"detail\":\"There is already a pending run for this thread.\"}"
     ]
    }
   ],
   "source": [
    "input = {\"messages\": [{\"role\": \"human\", \"content\": \"and in sf\"}]}\n",
    "run = await client.runs.create(thread['thread_id'], assistant[\"assistant_id\"], input=input)\n",
    "run"
   ]
  },
  {
   "cell_type": "code",
   "execution_count": 31,
   "id": "d84b4d80-b0aa-4d9f-a05d-0744b2fe8f72",
   "metadata": {},
   "outputs": [
    {
     "data": {
      "text/plain": [
       "{'run_id': 'd932feca-a174-45b3-9290-1714b5c9f7f3',\n",
       " 'thread_id': '8b1c644e-48cc-4b07-9214-4363bca3592b',\n",
       " 'assistant_id': 'f6142c1e-6175-4a9f-8297-5aca82d0819e',\n",
       " 'created_at': '2024-05-17T22:03:56.664799+00:00',\n",
       " 'updated_at': '2024-05-17T22:03:56.664799+00:00',\n",
       " 'status': 'success',\n",
       " 'metadata': {}}"
      ]
     },
     "execution_count": 31,
     "metadata": {},
     "output_type": "execute_result"
    }
   ],
   "source": [
    "await client.runs.get(thread['thread_id'], run['run_id'])"
   ]
  },
  {
   "cell_type": "code",
   "execution_count": 32,
   "id": "ce124bd3-f197-4b73-9ff6-bb36730dd003",
   "metadata": {},
   "outputs": [
    {
     "data": {
      "text/plain": [
       "[{'event_id': 'cb6fbe92-d74e-4aa8-89d5-89eb5e8050b8',\n",
       "  'run_id': 'd932feca-a174-45b3-9290-1714b5c9f7f3',\n",
       "  'received_at': '2024-05-17T22:03:57.066912+00:00',\n",
       "  'span_id': 'e2264367-8cff-405e-992d-d0c7fbdfc57d',\n",
       "  'event': 'on_chain_end',\n",
       "  'name': 'agent',\n",
       "  'data': {'input': {'messages': [{'id': '4f059b93-a35d-4135-9415-1df0931e6c5a',\n",
       "      'name': None,\n",
       "      'type': 'human',\n",
       "      'content': 'whats the weather in la',\n",
       "      'example': False,\n",
       "      'additional_kwargs': {},\n",
       "      'response_metadata': {}},\n",
       "     {'id': 'd8582dcd-084d-4718-8016-b5ddc2e39052',\n",
       "      'name': None,\n",
       "      'type': 'human',\n",
       "      'content': 'and in sf',\n",
       "      'example': False,\n",
       "      'additional_kwargs': {},\n",
       "      'response_metadata': {}}]},\n",
       "   'output': None},\n",
       "  'metadata': {'graph_id': 'agent',\n",
       "   'thread_id': '8b1c644e-48cc-4b07-9214-4363bca3592b',\n",
       "   'assistant_id': 'f6142c1e-6175-4a9f-8297-5aca82d0819e'},\n",
       "  'tags': ['graph:step:3']},\n",
       " {'event_id': 'fd7434f7-7f9f-4f67-8c75-3d741cb6e278',\n",
       "  'run_id': 'd932feca-a174-45b3-9290-1714b5c9f7f3',\n",
       "  'received_at': '2024-05-17T22:03:57.062287+00:00',\n",
       "  'span_id': '516757eb-696d-4b83-8e22-65bb2245d0af',\n",
       "  'event': 'on_chat_model_end',\n",
       "  'name': 'ChatAnthropic',\n",
       "  'data': {'input': {'messages': [[{'id': '4f059b93-a35d-4135-9415-1df0931e6c5a',\n",
       "       'name': None,\n",
       "       'type': 'human',\n",
       "       'content': 'whats the weather in la',\n",
       "       'example': False,\n",
       "       'additional_kwargs': {},\n",
       "       'response_metadata': {}},\n",
       "      {'id': 'd8582dcd-084d-4718-8016-b5ddc2e39052',\n",
       "       'name': None,\n",
       "       'type': 'human',\n",
       "       'content': 'and in sf',\n",
       "       'example': False,\n",
       "       'additional_kwargs': {},\n",
       "       'response_metadata': {}}]]},\n",
       "   'output': None},\n",
       "  'metadata': {'graph_id': 'agent',\n",
       "   'thread_id': '8b1c644e-48cc-4b07-9214-4363bca3592b',\n",
       "   'assistant_id': 'f6142c1e-6175-4a9f-8297-5aca82d0819e'},\n",
       "  'tags': ['seq:step:1']},\n",
       " {'event_id': '71b1911a-7df8-47f3-badb-ac88931ddd8a',\n",
       "  'run_id': 'd932feca-a174-45b3-9290-1714b5c9f7f3',\n",
       "  'received_at': '2024-05-17T22:03:57.059408+00:00',\n",
       "  'span_id': '516757eb-696d-4b83-8e22-65bb2245d0af',\n",
       "  'event': 'on_chat_model_start',\n",
       "  'name': 'ChatAnthropic',\n",
       "  'data': {'input': {'messages': [[{'id': '4f059b93-a35d-4135-9415-1df0931e6c5a',\n",
       "       'name': None,\n",
       "       'type': 'human',\n",
       "       'content': 'whats the weather in la',\n",
       "       'example': False,\n",
       "       'additional_kwargs': {},\n",
       "       'response_metadata': {}},\n",
       "      {'id': 'd8582dcd-084d-4718-8016-b5ddc2e39052',\n",
       "       'name': None,\n",
       "       'type': 'human',\n",
       "       'content': 'and in sf',\n",
       "       'example': False,\n",
       "       'additional_kwargs': {},\n",
       "       'response_metadata': {}}]]}},\n",
       "  'metadata': {'graph_id': 'agent',\n",
       "   'thread_id': '8b1c644e-48cc-4b07-9214-4363bca3592b',\n",
       "   'assistant_id': 'f6142c1e-6175-4a9f-8297-5aca82d0819e'},\n",
       "  'tags': ['seq:step:1']},\n",
       " {'event_id': '7ba3382f-c130-430c-9d11-f0437918196b',\n",
       "  'run_id': 'd932feca-a174-45b3-9290-1714b5c9f7f3',\n",
       "  'received_at': '2024-05-17T22:03:57.050564+00:00',\n",
       "  'span_id': 'e2264367-8cff-405e-992d-d0c7fbdfc57d',\n",
       "  'event': 'on_chain_start',\n",
       "  'name': 'agent',\n",
       "  'data': {},\n",
       "  'metadata': {'graph_id': 'agent',\n",
       "   'thread_id': '8b1c644e-48cc-4b07-9214-4363bca3592b',\n",
       "   'assistant_id': 'f6142c1e-6175-4a9f-8297-5aca82d0819e'},\n",
       "  'tags': ['graph:step:3']},\n",
       " {'event_id': '8c32fe95-96a6-4416-868a-8854fa1bf1a3',\n",
       "  'run_id': 'd932feca-a174-45b3-9290-1714b5c9f7f3',\n",
       "  'received_at': '2024-05-17T22:03:57.049019+00:00',\n",
       "  'span_id': 'd932feca-a174-45b3-9290-1714b5c9f7f3',\n",
       "  'event': 'on_chain_stream',\n",
       "  'name': 'LangGraph',\n",
       "  'data': {'chunk': {'messages': [{'id': '4f059b93-a35d-4135-9415-1df0931e6c5a',\n",
       "      'name': None,\n",
       "      'type': 'human',\n",
       "      'content': 'whats the weather in la',\n",
       "      'example': False,\n",
       "      'additional_kwargs': {},\n",
       "      'response_metadata': {}},\n",
       "     {'id': 'd8582dcd-084d-4718-8016-b5ddc2e39052',\n",
       "      'name': None,\n",
       "      'type': 'human',\n",
       "      'content': 'and in sf',\n",
       "      'example': False,\n",
       "      'additional_kwargs': {},\n",
       "      'response_metadata': {}}]}},\n",
       "  'metadata': {'graph_id': 'agent',\n",
       "   'thread_id': '8b1c644e-48cc-4b07-9214-4363bca3592b',\n",
       "   'assistant_id': 'f6142c1e-6175-4a9f-8297-5aca82d0819e'},\n",
       "  'tags': []},\n",
       " {'event_id': 'f61e5fa1-9b06-4048-9eb3-494ab1674adf',\n",
       "  'run_id': 'd932feca-a174-45b3-9290-1714b5c9f7f3',\n",
       "  'received_at': '2024-05-17T22:03:56.926775+00:00',\n",
       "  'span_id': 'd932feca-a174-45b3-9290-1714b5c9f7f3',\n",
       "  'event': 'on_chain_start',\n",
       "  'name': 'LangGraph',\n",
       "  'data': {'input': {'messages': [{'role': 'human', 'content': 'and in sf'}]}},\n",
       "  'metadata': {'graph_id': 'agent',\n",
       "   'thread_id': '8b1c644e-48cc-4b07-9214-4363bca3592b',\n",
       "   'assistant_id': 'f6142c1e-6175-4a9f-8297-5aca82d0819e'},\n",
       "  'tags': []}]"
      ]
     },
     "execution_count": 32,
     "metadata": {},
     "output_type": "execute_result"
    }
   ],
   "source": [
    "await client.runs.list_events(thread['thread_id'], run['run_id'])"
   ]
  },
  {
   "cell_type": "code",
   "execution_count": null,
   "id": "8fa206ed-515e-4607-9a80-bebafe76cc24",
   "metadata": {},
   "outputs": [],
   "source": []
  }
 ],
 "metadata": {
  "kernelspec": {
   "display_name": "Python 3 (ipykernel)",
   "language": "python",
   "name": "python3"
  },
  "language_info": {
   "codemirror_mode": {
    "name": "ipython",
    "version": 3
   },
   "file_extension": ".py",
   "mimetype": "text/x-python",
   "name": "python",
   "nbconvert_exporter": "python",
   "pygments_lexer": "ipython3",
   "version": "3.11.9"
  }
 },
 "nbformat": 4,
 "nbformat_minor": 5
}
